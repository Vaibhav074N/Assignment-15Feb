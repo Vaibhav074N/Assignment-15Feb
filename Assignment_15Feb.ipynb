{
  "nbformat": 4,
  "nbformat_minor": 0,
  "metadata": {
    "colab": {
      "provenance": [],
      "authorship_tag": "ABX9TyO+kAuQrjv9tmtWP2M+XUd/",
      "include_colab_link": true
    },
    "kernelspec": {
      "name": "python3",
      "display_name": "Python 3"
    },
    "language_info": {
      "name": "python"
    }
  },
  "cells": [
    {
      "cell_type": "markdown",
      "metadata": {
        "id": "view-in-github",
        "colab_type": "text"
      },
      "source": [
        "<a href=\"https://colab.research.google.com/github/Vaibhav074N/Assignment-15Feb/blob/main/Assignment_15Feb.ipynb\" target=\"_parent\"><img src=\"https://colab.research.google.com/assets/colab-badge.svg\" alt=\"Open In Colab\"/></a>"
      ]
    },
    {
      "cell_type": "markdown",
      "source": [
        "#####Q1\n",
        "##### Ans:\n",
        "##### A process of running multiple processes simultaneously within a single thread ia a multiprocessing.\n",
        "#####  Multiprocessing is a useful feature in Python for improving the performance and efficiency of programs that require parallel processing."
      ],
      "metadata": {
        "id": "wznuPgyvj4Kb"
      }
    },
    {
      "cell_type": "markdown",
      "source": [
        "#####Q2\n",
        "#####Ans:\n",
        "##### The difference between this is, Multithreading runs multiple threads simultaneously within a single process, while multiprocessing runs multiple processes simultaneously within a single thread."
      ],
      "metadata": {
        "id": "qgmJKMx-kiyT"
      }
    },
    {
      "cell_type": "markdown",
      "source": [
        "#####Q3\n"
      ],
      "metadata": {
        "id": "Am8VNT40k_mn"
      }
    },
    {
      "cell_type": "code",
      "source": [
        "import multiprocessing\n",
        "def test():\n",
        "    print('Hello i am vaibhav, Here')\n",
        "\n",
        "if __name__ == '__main__':\n",
        "    m=multiprocessing.Process(target=test)\n",
        "    print('You are welcome.')\n",
        "    m.start()\n",
        "    m.join()"
      ],
      "metadata": {
        "colab": {
          "base_uri": "https://localhost:8080/"
        },
        "id": "--5ME1cjj5-2",
        "outputId": "6db16bb1-8c67-49bb-db30-2fddde029d14"
      },
      "execution_count": 2,
      "outputs": [
        {
          "output_type": "stream",
          "name": "stdout",
          "text": [
            "You are welcome.\n",
            "Hello i am vaibhav, Here\n"
          ]
        }
      ]
    },
    {
      "cell_type": "markdown",
      "source": [
        "#####Q4\n",
        "#####Ans:\n",
        "##### Multiprocessing pool in python is, A set of processes that can be executed concurrently to perform a specific task."
      ],
      "metadata": {
        "id": "2nhxVztKlWJ-"
      }
    },
    {
      "cell_type": "markdown",
      "source": [
        "#####Q5"
      ],
      "metadata": {
        "id": "8gqZ59xxmu3h"
      }
    },
    {
      "cell_type": "code",
      "source": [
        "import multiprocessing\n",
        "def sq(n):\n",
        "    return n**3\n",
        "if __name__ == \"__main__\":\n",
        "  with multiprocessing.Pool(processes=10) as pool:\n",
        "     out = pool.map(sq, [1,2,3,4,5,6,7,8,9,10])\n",
        "     print(out)"
      ],
      "metadata": {
        "colab": {
          "base_uri": "https://localhost:8080/"
        },
        "id": "sBP2SzWalVRe",
        "outputId": "078457d3-6081-418f-f29e-31f9a1a2fd4b"
      },
      "execution_count": 3,
      "outputs": [
        {
          "output_type": "stream",
          "name": "stdout",
          "text": [
            "[1, 8, 27, 64, 125, 216, 343, 512, 729, 1000]\n"
          ]
        }
      ]
    },
    {
      "cell_type": "markdown",
      "source": [
        "#####Q6"
      ],
      "metadata": {
        "id": "af1ua_EfnOzO"
      }
    },
    {
      "cell_type": "code",
      "source": [
        "import multiprocessing\n",
        "\n",
        "def calculate_square(num):\n",
        "    square = num*num\n",
        "    print(\"The square of {} is {}\".format(num, square))\n",
        "\n",
        "if __name__ == '__main__':\n",
        "    processes = []\n",
        "    for i in range(4):\n",
        "        p = multiprocessing.Process(target=calculate_square, args=(i,))\n",
        "        processes.append(p)\n",
        "        p.start()\n",
        "\n",
        "    for p in processes:\n",
        "        p.join()\n"
      ],
      "metadata": {
        "colab": {
          "base_uri": "https://localhost:8080/"
        },
        "id": "Kojw6_ylqaA9",
        "outputId": "43669399-56ab-482c-e4fd-7b86b36cd16e"
      },
      "execution_count": 13,
      "outputs": [
        {
          "output_type": "stream",
          "name": "stdout",
          "text": [
            "The square of 0 is 0\n",
            "The square of 1 is 1The square of 2 is 4\n",
            "\n",
            "The square of 3 is 9\n"
          ]
        }
      ]
    }
  ]
}